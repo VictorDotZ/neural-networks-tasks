{
 "cells": [
  {
   "cell_type": "markdown",
   "metadata": {},
   "source": [
    "## Семинар 9: \"LSTM\"\n"
   ]
  },
  {
   "cell_type": "code",
   "execution_count": 1,
   "metadata": {
    "collapsed": true
   },
   "outputs": [],
   "source": [
    "import numpy as np\n",
    "from sklearn.model_selection import train_test_split\n",
    "import matplotlib.pyplot as plt\n",
    "from torch import optim\n",
    "import torch\n",
    "from torch import nn\n",
    "import pandas\n",
    "from sklearn.preprocessing import MinMaxScaler\n",
    "from torch.utils.data import DataLoader, Dataset, TensorDataset\n"
   ]
  },
  {
   "cell_type": "markdown",
   "metadata": {},
   "source": [
    "Этот семинар посвящен реализации RNN в pyTorch\n"
   ]
  },
  {
   "cell_type": "markdown",
   "metadata": {},
   "source": [
    "## Задание 1\n"
   ]
  },
  {
   "cell_type": "markdown",
   "metadata": {},
   "source": [
    "Напишите свою реализацию LSTM.\n"
   ]
  },
  {
   "cell_type": "markdown",
   "metadata": {},
   "source": [
    "<img src=\"https://cdn-images-1.medium.com/max/1600/1*hl9UVtgIcQkDIGD8VFykdw.png\" width=\"640\">\n"
   ]
  },
  {
   "cell_type": "code",
   "execution_count": 2,
   "metadata": {
    "collapsed": true
   },
   "outputs": [],
   "source": [
    "from torch.autograd import Variable\n",
    "\n",
    "\n",
    "class LSTM(nn.Module):\n",
    "    def __init__(self, input_size, hidden_size):\n",
    "        super(LSTM, self).__init__()\n",
    "        self.input_size = input_size\n",
    "        self.hidden_size = hidden_size\n",
    "        self.gate_size = 4 * self.hidden_size\n",
    "\n",
    "        self.W_i = nn.Parameter(torch.Tensor(input_size, self.gate_size))\n",
    "\n",
    "        self.W_h = nn.Parameter(torch.Tensor(hidden_size, self.gate_size))\n",
    "\n",
    "        self.b = nn.Parameter(torch.Tensor(self.gate_size))\n",
    "\n",
    "        self.linear = nn.Linear(self.hidden_size, 1)\n",
    "\n",
    "        self.init_weights()\n",
    "\n",
    "    def init_weights(self):\n",
    "        for weight in self.parameters():\n",
    "            weight.data.uniform_(-0.1, 0.1)\n",
    "\n",
    "    def forward(self, inputs, hidden=None):\n",
    "        # input_size это размерность вектора измерений в момент времени t\n",
    "        # т.е. ячейка не должна зависеть от того что там лежит и\n",
    "        # размера батча, но там лежало n прошлых измерений\n",
    "        # и возникали проблемы с размерами батчей\n",
    "\n",
    "        # я предпочитаю batch_size иметь на первом месте\n",
    "        # inputs: (batch_size, seq_len, input_size)\n",
    "        # hidden: (batch_size, hidden_size) x 2. (no layers)\n",
    "\n",
    "        # вроде как и ячейка lstm, раз принимает hidden\n",
    "        bs = inputs.size(0)\n",
    "        if hidden is None:\n",
    "            h, c = (\n",
    "                torch.zeros(bs, self.hidden_size),\n",
    "                torch.zeros(bs, self.hidden_size),\n",
    "            )\n",
    "        else:\n",
    "            h, c = hidden\n",
    "\n",
    "        seq_length = inputs.size(1)\n",
    "        out = Variable(\n",
    "            torch.Tensor(bs, seq_length, self.hidden_size), requires_grad=False\n",
    "        )\n",
    "\n",
    "        # но в то же время имеется цикл, т.е. вроде как и RNN\n",
    "        for t in range(seq_length):\n",
    "            x_t = inputs[:, t, :]\n",
    "\n",
    "            S = torch.matmul(x_t, self.W_i) + torch.matmul(h, self.W_h) + self.b\n",
    "\n",
    "            i_1 = torch.sigmoid(S[:, : self.hidden_size])\n",
    "            f_1 = torch.sigmoid(S[:, self.hidden_size : self.hidden_size * 2])\n",
    "            g_1 = torch.tanh(S[:, self.hidden_size * 2 : self.hidden_size * 3])\n",
    "            o_1 = torch.sigmoid(S[:, self.hidden_size * 3 :])\n",
    "\n",
    "            c = f_1 * c + i_1 * g_1\n",
    "            h = o_1 * torch.tanh(c)\n",
    "            out[:, t, :] = h\n",
    "\n",
    "        # раз уже в цикле прогнали всю последовательность\n",
    "        # значит возвращать hidden незачем. тогда линейный слой накинем сразу\n",
    "        return self.linear(out[:, -1, :])\n"
   ]
  },
  {
   "cell_type": "markdown",
   "metadata": {
    "collapsed": true
   },
   "source": [
    "## Задание 2\n"
   ]
  },
  {
   "cell_type": "markdown",
   "metadata": {},
   "source": [
    "Используя свою реализацию LSTM и torch.nn.LSTM (torch.nn.GRU) решить задачу предсказания временного ряда.\n",
    "Попробуйте разные длины входной и выходной последовательности.\n",
    "С помощью обученной сети получить из train-части временного ряда test-часть.\n"
   ]
  },
  {
   "cell_type": "markdown",
   "metadata": {},
   "source": [
    "Данные о количестве пассажиров\n",
    "https://datamarket.com/data/set/22u3/international-airline-passengers-monthly-totals-in-thousands-jan-49-dec-60#!ds=22u3&display=line\n"
   ]
  },
  {
   "cell_type": "code",
   "execution_count": 3,
   "metadata": {},
   "outputs": [
    {
     "data": {
      "image/png": "[encoded data removed]",
      "text/plain": [
       "<Figure size 432x288 with 1 Axes>"
      ]
     },
     "metadata": {
      "needs_background": "light"
     },
     "output_type": "display_data"
    }
   ],
   "source": [
    "dataset = pandas.read_csv(\n",
    "    \"international-airline-passengers.csv\",\n",
    "    usecols=[1],\n",
    "    delimiter=\";\",\n",
    "    engine=\"python\",\n",
    "    skipfooter=3,\n",
    ")\n",
    "plt.plot(dataset)\n",
    "plt.show()\n"
   ]
  },
  {
   "cell_type": "code",
   "execution_count": 4,
   "metadata": {
    "collapsed": true
   },
   "outputs": [],
   "source": [
    "# подготовливаем данные\n",
    "from sklearn.preprocessing import StandardScaler\n",
    "\n",
    "dataset = dataset.values\n",
    "dataset = dataset.astype(\"float32\")\n",
    "scaler = MinMaxScaler(feature_range=(0, 1))\n",
    "\n",
    "# dataset = scaler.fit_transform(dataset)\n"
   ]
  },
  {
   "cell_type": "code",
   "execution_count": 5,
   "metadata": {},
   "outputs": [
    {
     "name": "stdout",
     "output_type": "stream",
     "text": [
      "96 48\n"
     ]
    }
   ],
   "source": [
    "# разбиваем данные на train / test\n",
    "train_size = int(len(dataset) * 0.67)\n",
    "test_size = len(dataset) - train_size\n",
    "\n",
    "train, test = dataset[0:train_size, :], dataset[train_size : len(dataset), :]\n",
    "print(len(train), len(test))\n",
    "\n",
    "train = scaler.fit_transform(train)\n",
    "test = scaler.transform(test)\n"
   ]
  },
  {
   "cell_type": "code",
   "execution_count": 6,
   "metadata": {
    "collapsed": true
   },
   "outputs": [],
   "source": [
    "# Целевая переменная - сдвинутая последовательность значений входов\n",
    "\n",
    "\n",
    "def create_dataset(dataset, look_back=1, look_forward=1):\n",
    "    dataX, dataY = [], []\n",
    "    for i in range(len(dataset) - look_back - 1 - look_forward):\n",
    "        a = dataset[i : (i + look_back), 0]\n",
    "        dataX.append(a)\n",
    "        dataY.append(dataset[i + look_back : (i + look_back + look_forward), 0])\n",
    "\n",
    "    return np.array(dataX), np.array(dataY)\n"
   ]
  },
  {
   "cell_type": "code",
   "execution_count": 7,
   "metadata": {},
   "outputs": [],
   "source": [
    "# по идее код выше делает не очень правильно, т.к. последняя размерность\n",
    "# после него становится look_back,\n",
    "# т.е. ячейка lstm видит напрямую n прошлых токенов в фичах текущего токена\n",
    "# а не смотрит на них через призму hidden\n",
    "\n",
    "# чуть-чуть переписал нашедшийся у меня класс датасета для похожей задачи\n",
    "class SeqToSeqDataset(Dataset):\n",
    "    def __init__(\n",
    "        self,\n",
    "        dataframe,\n",
    "        sequence_length=96,\n",
    "        forecast_length=24,\n",
    "        device=\"cpu\",\n",
    "    ):\n",
    "        self.sequence_length = sequence_length\n",
    "        self.forecast_length = forecast_length\n",
    "        self.device = device\n",
    "\n",
    "        self.data = torch.tensor(dataframe).float()\n",
    "\n",
    "    def __len__(self):\n",
    "        return self.data.shape[0] - self.sequence_length - self.forecast_length + 1\n",
    "\n",
    "    def __getitem__(self, i):\n",
    "        src_start = i\n",
    "        src_end = src_start + self.sequence_length\n",
    "        seq_x = self.data[src_start:src_end]\n",
    "\n",
    "        y_start = src_end\n",
    "        y_end = y_start + self.forecast_length\n",
    "        seq_y = self.data[y_start:y_end] \n",
    "\n",
    "        return seq_x.to(self.device), seq_y.to(self.device)\n"
   ]
  },
  {
   "cell_type": "code",
   "execution_count": 8,
   "metadata": {
    "collapsed": true
   },
   "outputs": [
    {
     "name": "stdout",
     "output_type": "stream",
     "text": [
      "Features:\ttorch.Size([7, 30, 1])\n",
      "Target:\t\ttorch.Size([7, 1, 1])\n"
     ]
    }
   ],
   "source": [
    "# Пример подготовленных данных\n",
    "sequence_length = 30\n",
    "forecast_length = 1\n",
    "# look_back = 30\n",
    "# look_forward=1\n",
    "# trainX, trainY = create_dataset(train, look_back, look_forward)\n",
    "# testX, testY = create_dataset(test, look_back, look_forward)\n",
    "\n",
    "torch.manual_seed(101)\n",
    "batch_size = 7 \n",
    "\n",
    "train_dataset = SeqToSeqDataset(train, sequence_length, forecast_length)\n",
    "\n",
    "train_loader = DataLoader(train_dataset, batch_size=batch_size, shuffle=True)\n",
    "\n",
    "X, y = next(iter(train_loader))\n",
    "\n",
    "print(\"Features:\", X.shape, sep=\"\\t\")\n",
    "print(\"Target:\\t\", y.shape, sep=\"\\t\")\n",
    "\n",
    "\n",
    "# trainX = np.reshape(trainX, (trainX.shape[0], 1, trainX.shape[1]))\n",
    "# testX = np.reshape(testX, (testX.shape[0], 1, testX.shape[1]))\n"
   ]
  },
  {
   "cell_type": "code",
   "execution_count": 9,
   "metadata": {},
   "outputs": [],
   "source": [
    "# для X, y при batch_size = 1 и shuffle=False имеем\n",
    "# X = tensor([[[0.0259],\n",
    "#          [0.0453],\n",
    "#          [0.0906],\n",
    "#          [0.0809],\n",
    "#          [0.0550]]])\n",
    "# y = tensor([[[0.1003]]])\n",
    "# при этом train[:6]\n",
    "# array([[0.02588999],\n",
    "#        [0.04530746],\n",
    "#        [0.09061491],\n",
    "#        [0.08090615],\n",
    "#        [0.05501619],\n",
    "#        [0.10032365]], dtype=float32)\n",
    "# т.е. всё идеально\n"
   ]
  },
  {
   "cell_type": "code",
   "execution_count": 10,
   "metadata": {
    "collapsed": true
   },
   "outputs": [],
   "source": [
    "# train_dataset = TensorDataset(torch.from_numpy(trainX), torch.from_numpy(trainY))\n",
    "# test_dataset = TensorDataset(torch.from_numpy(testX), torch.from_numpy(testY))\n"
   ]
  },
  {
   "cell_type": "code",
   "execution_count": 11,
   "metadata": {
    "collapsed": true
   },
   "outputs": [],
   "source": [
    "# batch_size = 1\n",
    "\n",
    "# train_dataloader =  DataLoader(train_dataset, batch_size=batch_size)\n",
    "# test_dataloader =  DataLoader(test_dataset, batch_size=batch_size)\n"
   ]
  },
  {
   "cell_type": "code",
   "execution_count": 12,
   "metadata": {},
   "outputs": [
    {
     "name": "stdout",
     "output_type": "stream",
     "text": [
      "train loss\t=\t 0.0037568986066617072\n",
      "train loss\t=\t 0.0018175748467911036\n",
      "train loss\t=\t 0.0013542469125241042\n",
      "train loss\t=\t 0.0017610138922464103\n",
      "train loss\t=\t 0.0010029298457084224\n",
      "train loss\t=\t 0.0007115863103535957\n",
      "train loss\t=\t 0.0007075057568727061\n",
      "train loss\t=\t 0.0004789548122062115\n"
     ]
    }
   ],
   "source": [
    "hidden_size = 64\n",
    "input_size = 1\n",
    "lstm = LSTM(input_size, hidden_size)\n",
    "optimizer = optim.Adam(lstm.parameters(), lr=1e-3)\n",
    "loss_function = torch.nn.MSELoss()\n",
    "\n",
    "for epoch in range(1, 800 + 1):\n",
    "    total_loss = 0\n",
    "    num_batches = len(train_loader)\n",
    "    \n",
    "    for X, y in train_loader:\n",
    "        output = lstm.forward(X)\n",
    "        \n",
    "        loss = loss_function(output, y.squeeze(-1))\n",
    "\n",
    "        optimizer.zero_grad()\n",
    "        loss.backward()\n",
    "        torch.nn.utils.clip_grad_norm_(lstm.parameters(), 0.5)\n",
    "        optimizer.step()\n",
    "\n",
    "        total_loss += loss.item()\n",
    "        \n",
    "    avg_loss = total_loss / num_batches\n",
    "    if epoch % 100 == 0:\n",
    "        print(\"train loss\\t=\\t\", avg_loss)\n",
    "        \n",
    "        "
   ]
  },
  {
   "cell_type": "code",
   "execution_count": 13,
   "metadata": {},
   "outputs": [],
   "source": [
    "# тут не будет первого токена теста\n",
    "input = train_dataset[len(train_dataset)][0].unsqueeze(0)\n",
    "\n",
    "outs = []\n",
    "with torch.no_grad():\n",
    "    for t in range(test_size):\n",
    "        out = lstm.forward(input)\n",
    "        out = out[0,0]\n",
    "        \n",
    "        input = input.roll(-1)\n",
    "        input[0,-1,0] = out\n",
    "        \n",
    "        outs.append(out.item())\n",
    "        "
   ]
  },
  {
   "cell_type": "code",
   "execution_count": 14,
   "metadata": {},
   "outputs": [
    {
     "data": {
      "image/png": "[encoded data removed]",
      "text/plain": [
       "<Figure size 432x288 with 1 Axes>"
      ]
     },
     "metadata": {
      "needs_background": "light"
     },
     "output_type": "display_data"
    }
   ],
   "source": [
    "plt.plot(outs[1:], label=\"lstm\")\n",
    "plt.plot(test[:, 0])\n",
    "plt.legend()\n",
    "plt.show()\n"
   ]
  },
  {
   "cell_type": "markdown",
   "metadata": {},
   "source": [
    "## Задание 3\n",
    "\n",
    "Поучаствуйте в соревновании https://www.kaggle.com/t/db8f882eee2b4fbd9936a8c51b62245c\n",
    "\n",
    "Для зачета задания нужно получить значение MAPE меньше 0.2\n",
    "\n",
    "До 3 декабря 2021 можно получить 3,2,1 дополнительных балла за 1, 2 и 3 место соответственно.\n",
    "\n",
    "Опиционально: сравните классические подходы (ARIMA, gradient boosting trees и RNN)\n"
   ]
  },
  {
   "cell_type": "code",
   "execution_count": null,
   "metadata": {},
   "outputs": [],
   "source": []
  },
  {
   "cell_type": "code",
   "execution_count": null,
   "metadata": {},
   "outputs": [],
   "source": []
  },
  {
   "cell_type": "markdown",
   "metadata": {},
   "source": [
    "#### Feedback (опционально)\n"
   ]
  },
  {
   "cell_type": "markdown",
   "metadata": {},
   "source": [
    "Здесь вы можете оставить список опечаток из лекции или семинара:\n"
   ]
  },
  {
   "cell_type": "raw",
   "metadata": {},
   "source": []
  },
  {
   "cell_type": "markdown",
   "metadata": {},
   "source": [
    "Здесь вы можете оставить комментарии по лекции или семинару:\n"
   ]
  },
  {
   "cell_type": "raw",
   "metadata": {},
   "source": []
  }
 ],
 "metadata": {
  "kernelspec": {
   "display_name": "Python 3.9.12 ('torch')",
   "language": "python",
   "name": "python3"
  },
  "language_info": {
   "codemirror_mode": {
    "name": "ipython",
    "version": 3
   },
   "file_extension": ".py",
   "mimetype": "text/x-python",
   "name": "python",
   "nbconvert_exporter": "python",
   "pygments_lexer": "ipython3",
   "version": "3.9.15"
  },
  "latex_envs": {
   "bibliofile": "biblio.bib",
   "cite_by": "apalike",
   "current_citInitial": 1,
   "eqLabelWithNumbers": true,
   "eqNumInitial": 0
  },
  "vscode": {
   "interpreter": {
    "hash": "57fdf6ced3497be6751aff0d610660c5baf34a48c3eaed9bf5963df6523fe9d6"
   }
  }
 },
 "nbformat": 4,
 "nbformat_minor": 1
}
