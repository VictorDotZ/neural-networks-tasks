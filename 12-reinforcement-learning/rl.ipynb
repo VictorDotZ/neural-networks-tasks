{
  "cells": [
    {
      "cell_type": "markdown",
      "id": "3801d352",
      "metadata": {
        "id": "3801d352"
      },
      "source": [
        "## Домашнее задание : \"Обучение с подкреплением\""
      ]
    },
    {
      "cell_type": "markdown",
      "id": "9528f5be",
      "metadata": {
        "id": "9528f5be"
      },
      "source": [
        "# Задание 1\n",
        "\n",
        "Обучите алгоритм Q-learning для сред FrozenLake-v1 и Blackjack-v1, в частности подберите оптимальную alpha. (1 балл)"
      ]
    },
    {
      "cell_type": "code",
      "execution_count": null,
      "id": "0e9anQWdMZmR",
      "metadata": {
        "colab": {
          "base_uri": "https://localhost:8080/"
        },
        "id": "0e9anQWdMZmR",
        "outputId": "ccc27544-e6c5-48fc-b673-ff239dbe07bc"
      },
      "outputs": [
        {
          "name": "stdout",
          "output_type": "stream",
          "text": [
            "Looking in indexes: https://pypi.org/simple, https://us-python.pkg.dev/colab-wheels/public/simple/\n",
            "Requirement already satisfied: gym in /usr/local/lib/python3.8/dist-packages (0.25.2)\n",
            "Requirement already satisfied: gym-notices>=0.0.4 in /usr/local/lib/python3.8/dist-packages (from gym) (0.0.8)\n",
            "Requirement already satisfied: numpy>=1.18.0 in /usr/local/lib/python3.8/dist-packages (from gym) (1.21.6)\n",
            "Requirement already satisfied: cloudpickle>=1.2.0 in /usr/local/lib/python3.8/dist-packages (from gym) (1.5.0)\n",
            "Requirement already satisfied: importlib-metadata>=4.8.0 in /usr/local/lib/python3.8/dist-packages (from gym) (4.13.0)\n",
            "Requirement already satisfied: zipp>=0.5 in /usr/local/lib/python3.8/dist-packages (from importlib-metadata>=4.8.0->gym) (3.11.0)\n",
            "Looking in indexes: https://pypi.org/simple, https://us-python.pkg.dev/colab-wheels/public/simple/\n",
            "Requirement already satisfied: gym[toy_text] in /usr/local/lib/python3.8/dist-packages (0.25.2)\n",
            "Requirement already satisfied: gym-notices>=0.0.4 in /usr/local/lib/python3.8/dist-packages (from gym[toy_text]) (0.0.8)\n",
            "Requirement already satisfied: numpy>=1.18.0 in /usr/local/lib/python3.8/dist-packages (from gym[toy_text]) (1.21.6)\n",
            "Requirement already satisfied: cloudpickle>=1.2.0 in /usr/local/lib/python3.8/dist-packages (from gym[toy_text]) (1.5.0)\n",
            "Requirement already satisfied: importlib-metadata>=4.8.0 in /usr/local/lib/python3.8/dist-packages (from gym[toy_text]) (4.13.0)\n",
            "Collecting pygame==2.1.0\n",
            "  Downloading pygame-2.1.0-cp38-cp38-manylinux_2_17_x86_64.manylinux2014_x86_64.whl (18.3 MB)\n",
            "\u001b[K     |████████████████████████████████| 18.3 MB 1.1 MB/s \n",
            "\u001b[?25hRequirement already satisfied: zipp>=0.5 in /usr/local/lib/python3.8/dist-packages (from importlib-metadata>=4.8.0->gym[toy_text]) (3.11.0)\n",
            "Installing collected packages: pygame\n",
            "Successfully installed pygame-2.1.0\n",
            "Looking in indexes: https://pypi.org/simple, https://us-python.pkg.dev/colab-wheels/public/simple/\n",
            "Requirement already satisfied: gym[atari] in /usr/local/lib/python3.8/dist-packages (0.25.2)\n",
            "Requirement already satisfied: cloudpickle>=1.2.0 in /usr/local/lib/python3.8/dist-packages (from gym[atari]) (1.5.0)\n",
            "Requirement already satisfied: importlib-metadata>=4.8.0 in /usr/local/lib/python3.8/dist-packages (from gym[atari]) (4.13.0)\n",
            "Requirement already satisfied: gym-notices>=0.0.4 in /usr/local/lib/python3.8/dist-packages (from gym[atari]) (0.0.8)\n",
            "Requirement already satisfied: numpy>=1.18.0 in /usr/local/lib/python3.8/dist-packages (from gym[atari]) (1.21.6)\n",
            "Collecting ale-py~=0.7.5\n",
            "  Downloading ale_py-0.7.5-cp38-cp38-manylinux_2_17_x86_64.manylinux2014_x86_64.whl (1.6 MB)\n",
            "\u001b[K     |████████████████████████████████| 1.6 MB 28.7 MB/s \n",
            "\u001b[?25hRequirement already satisfied: importlib-resources in /usr/local/lib/python3.8/dist-packages (from ale-py~=0.7.5->gym[atari]) (5.10.0)\n",
            "Requirement already satisfied: zipp>=0.5 in /usr/local/lib/python3.8/dist-packages (from importlib-metadata>=4.8.0->gym[atari]) (3.11.0)\n",
            "Installing collected packages: ale-py\n",
            "Successfully installed ale-py-0.7.5\n",
            "Looking in indexes: https://pypi.org/simple, https://us-python.pkg.dev/colab-wheels/public/simple/\n",
            "Collecting autorom[accept-rom-license]\n",
            "  Downloading AutoROM-0.4.2-py3-none-any.whl (16 kB)\n",
            "Requirement already satisfied: tqdm in /usr/local/lib/python3.8/dist-packages (from autorom[accept-rom-license]) (4.64.1)\n",
            "Requirement already satisfied: click in /usr/local/lib/python3.8/dist-packages (from autorom[accept-rom-license]) (7.1.2)\n",
            "Requirement already satisfied: requests in /usr/local/lib/python3.8/dist-packages (from autorom[accept-rom-license]) (2.23.0)\n",
            "Requirement already satisfied: importlib-resources in /usr/local/lib/python3.8/dist-packages (from autorom[accept-rom-license]) (5.10.0)\n",
            "Collecting AutoROM.accept-rom-license\n",
            "  Downloading AutoROM.accept-rom-license-0.4.2.tar.gz (9.8 kB)\n",
            "  Installing build dependencies ... \u001b[?25l\u001b[?25hdone\n",
            "  Getting requirements to build wheel ... \u001b[?25l\u001b[?25hdone\n",
            "    Preparing wheel metadata ... \u001b[?25l\u001b[?25hdone\n",
            "Requirement already satisfied: zipp>=3.1.0 in /usr/local/lib/python3.8/dist-packages (from importlib-resources->autorom[accept-rom-license]) (3.11.0)\n",
            "Requirement already satisfied: idna<3,>=2.5 in /usr/local/lib/python3.8/dist-packages (from requests->autorom[accept-rom-license]) (2.10)\n",
            "Requirement already satisfied: certifi>=2017.4.17 in /usr/local/lib/python3.8/dist-packages (from requests->autorom[accept-rom-license]) (2022.9.24)\n",
            "Requirement already satisfied: chardet<4,>=3.0.2 in /usr/local/lib/python3.8/dist-packages (from requests->autorom[accept-rom-license]) (3.0.4)\n",
            "Requirement already satisfied: urllib3!=1.25.0,!=1.25.1,<1.26,>=1.21.1 in /usr/local/lib/python3.8/dist-packages (from requests->autorom[accept-rom-license]) (1.24.3)\n",
            "Building wheels for collected packages: AutoROM.accept-rom-license\n",
            "  Building wheel for AutoROM.accept-rom-license (PEP 517) ... \u001b[?25l\u001b[?25hdone\n",
            "  Created wheel for AutoROM.accept-rom-license: filename=AutoROM.accept_rom_license-0.4.2-py3-none-any.whl size=441028 sha256=6201799c85e90024a6ab1f7996d40bc11d646ce1ac0c0fef73836bf3fe731d79\n",
            "  Stored in directory: /root/.cache/pip/wheels/51/08/c5/28b973078691a3f8baf99fcaec1ed8f0e05ef6e54d2390212c\n",
            "Successfully built AutoROM.accept-rom-license\n",
            "Installing collected packages: AutoROM.accept-rom-license, autorom\n",
            "Successfully installed AutoROM.accept-rom-license-0.4.2 autorom-0.4.2\n"
          ]
        }
      ],
      "source": [
        "!pip install gym\n",
        "!pip install \"gym[toy_text]\"\n",
        "!pip install \"gym[atari]\"\n",
        "!pip install \"autorom[accept-rom-license]\""
      ]
    },
    {
      "cell_type": "code",
      "execution_count": null,
      "id": "783b600b",
      "metadata": {
        "id": "783b600b"
      },
      "outputs": [],
      "source": [
        "import random, os\n",
        "\n",
        "import gym\n",
        "import numpy as np\n",
        "\n",
        "import matplotlib.pyplot as plt\n",
        "\n",
        "from collections import defaultdict\n",
        "\n",
        "from tqdm import tqdm\n",
        "\n",
        "import torch\n",
        "import torch.nn as nn\n",
        "from torch.autograd import Variable\n",
        "from torch.optim import Adam\n",
        "\n",
        "from torch.distributions.categorical import Categorical\n",
        "\n",
        "import torchvision.transforms as transforms\n",
        "\n",
        "torch.backends.cudnn.benchmark = True\n",
        "device = \"cuda\" if torch.cuda.is_available() else \"cpu\"\n",
        "torch.device(device)\n",
        "\n",
        "def seed_everything(seed):    \n",
        "    random.seed(seed)\n",
        "    os.environ['PYTHONHASHSEED'] = str(seed)\n",
        "    np.random.seed(seed)\n",
        "    torch.manual_seed(seed)\n",
        "    torch.cuda.manual_seed(seed)\n",
        "    \n",
        "seed_everything(42)"
      ]
    },
    {
      "cell_type": "code",
      "execution_count": 82,
      "id": "da88b967",
      "metadata": {
        "id": "da88b967"
      },
      "outputs": [],
      "source": [
        "def train_policy(Q, alpha, environment, n_iters=1000):\n",
        "    for _ in range(n_iters):\n",
        "        state = environment.reset()\n",
        "        done = False\n",
        "        \n",
        "        while not done:\n",
        "            action = np.argmax(Q[state]) if np.max(Q[state]) > 0 else environment.action_space.sample()\n",
        "            \n",
        "            new_state, reward, done, _ = environment.step(action)\n",
        "            \n",
        "            Q[state][action] = (1 - alpha) * Q[state][action] + alpha * (reward + np.max(Q[new_state]))\n",
        "            \n",
        "            state = new_state"
      ]
    },
    {
      "cell_type": "code",
      "execution_count": 84,
      "id": "dab2304c",
      "metadata": {
        "id": "dab2304c"
      },
      "outputs": [],
      "source": [
        "def evaluate_policy(Q, environment, n_iters=1000):\n",
        "    total = 0\n",
        "    for _ in range(n_iters):\n",
        "        state = environment.reset()\n",
        "        done = False\n",
        "\n",
        "        while not done:\n",
        "            action = np.argmax(Q[state]) if np.max(Q[state]) > 0 else environment.action_space.sample()\n",
        "            \n",
        "            new_state, reward, done, _ = environment.step(action)\n",
        "                    \n",
        "            state = new_state\n",
        "            \n",
        "            total += reward\n",
        "    return total/n_iters"
      ]
    },
    {
      "cell_type": "code",
      "execution_count": 85,
      "id": "4c06ff13",
      "metadata": {
        "colab": {
          "base_uri": "https://localhost:8080/"
        },
        "id": "4c06ff13",
        "outputId": "f716b1bc-f772-46c8-cb2d-8ca83cb09b4a"
      },
      "outputs": [
        {
          "name": "stderr",
          "output_type": "stream",
          "text": [
            "/usr/local/lib/python3.8/dist-packages/gym/core.py:317: DeprecationWarning: \u001b[33mWARN: Initializing wrapper in old step API which returns one bool instead of two. It is recommended to set `new_step_api=True` to use new step API. This will be the default behaviour in future.\u001b[0m\n",
            "  deprecation(\n",
            "/usr/local/lib/python3.8/dist-packages/gym/wrappers/step_api_compatibility.py:39: DeprecationWarning: \u001b[33mWARN: Initializing environment in old step API which returns one bool instead of two. It is recommended to set `new_step_api=True` to use new step API. This will be the default behaviour in future.\u001b[0m\n",
            "  deprecation(\n"
          ]
        },
        {
          "name": "stdout",
          "output_type": "stream",
          "text": [
            "0.2 100.0\n"
          ]
        }
      ],
      "source": [
        "environment = gym.make(\"FrozenLake-v1\", is_slippery=False)\n",
        "\n",
        "alphas = np.arange(0, 1.1, 0.05)\n",
        "\n",
        "best_alpha = -1\n",
        "best_iters = 1200\n",
        "\n",
        "# среда очень простая, должна получиться Q дающая 100% прохождений\n",
        "# пусть оптимальная альфа такая, что сходимость наступает быстрее всего  \n",
        "for alpha in alphas:\n",
        "    Q = defaultdict(lambda: np.zeros(environment.action_space.n))\n",
        "    \n",
        "    iters_scores = []\n",
        "    \n",
        "    for n_iters in range(100, 1001, 100):\n",
        "        train_policy(Q, alpha, environment, n_iters)\n",
        "        \n",
        "        # считаем что сошлось если за 1000 итераций скор 1.0, \n",
        "        # т.е. все запуски привели к награде\n",
        "        score = evaluate_policy(Q, environment, 1000)\n",
        "\n",
        "        iters_scores.append([n_iters, score])\n",
        "        \n",
        "    iters_scores = np.array(iters_scores)\n",
        "    mask = np.where(iters_scores[:, 1] == 1.0)[0]\n",
        "    \n",
        "    if len(mask) == 0:\n",
        "        continue\n",
        "    \n",
        "    iters = iters_scores[np.where(iters_scores[:, 1] == 1.0)].min(axis=0)[0]\n",
        "    if iters < best_iters:\n",
        "        best_iters = iters\n",
        "        best_alpha = alpha\n",
        "        \n",
        "print(best_alpha, best_iters)"
      ]
    },
    {
      "cell_type": "code",
      "execution_count": 86,
      "id": "a2d73b24",
      "metadata": {
        "colab": {
          "base_uri": "https://localhost:8080/"
        },
        "id": "a2d73b24",
        "outputId": "d1653389-c4e8-40a7-cd68-d8362b6ad137"
      },
      "outputs": [
        {
          "name": "stdout",
          "output_type": "stream",
          "text": [
            "0.9 -0.064\n"
          ]
        }
      ],
      "source": [
        "environment = gym.make(\"Blackjack-v1\")\n",
        "\n",
        "alphas = np.arange(0, 1.1, 0.05)\n",
        "\n",
        "best_alpha = -1\n",
        "best_score = -1\n",
        "\n",
        "# тут трудно говорить что-то о сходимости к 100% винрейту,\n",
        "# поэтому пусть оптимальная альфа такая, что сумма наград \n",
        "# наибольшая за одинаковое число итераций (100к)\n",
        "for alpha in alphas:\n",
        "    Q = defaultdict(lambda: np.zeros(environment.action_space.n))\n",
        "    \n",
        "    train_policy(Q, alpha, environment, 100000)\n",
        "    \n",
        "    score = evaluate_policy(Q, environment, 1000)\n",
        "\n",
        "    if score > best_score:\n",
        "        best_score = score\n",
        "        best_alpha = alpha\n",
        "        \n",
        "print(best_alpha, best_score)"
      ]
    },
    {
      "cell_type": "markdown",
      "id": "89eab25f",
      "metadata": {
        "id": "89eab25f"
      },
      "source": [
        "# Задание 2\n",
        "\n",
        "Обучите алгоритм Policy Gradients (или Actor Critic) для среды https://www.gymlibrary.dev/environments/atari/breakout/ . Продемонстрируйте, что для обученного агента растет время игры. (2 балла)"
      ]
    },
    {
      "cell_type": "code",
      "execution_count": null,
      "id": "0fd0b061",
      "metadata": {
        "id": "0fd0b061"
      },
      "outputs": [],
      "source": [
        "class Policy(nn.Module):\n",
        "    def __init__(self, num_actions, device):\n",
        "        super().__init__()\n",
        "\n",
        "        self.transform = transforms.Compose([\n",
        "            transforms.ToPILImage(),\n",
        "            transforms.Grayscale(),\n",
        "            transforms.CenterCrop((175,150)),\n",
        "            transforms.Resize((84, 84)),\n",
        "            transforms.ToTensor()\n",
        "        ])\n",
        "\n",
        "        self.num_actions = num_actions\n",
        "\n",
        "        self.conv1 = nn.Conv2d(1, 32, 8, stride=4, padding=2)\n",
        "        self.conv2 = nn.Conv2d(32, 64, 4, stride=2, padding=1)\n",
        "        self.conv3 = nn.Conv2d(64, 64, 3, stride=1, padding=1)\n",
        "\n",
        "        self.maxpool = nn.MaxPool2d(2, 2)\n",
        "\n",
        "        self.flatten = nn.Flatten(1)\n",
        "        \n",
        "        self.linear1 = nn.Linear(64, 256)\n",
        "        self.linear2 = nn.Linear(256, num_actions)\n",
        "        \n",
        "        self.relu = torch.nn.ReLU(inplace=True)\n",
        "        self.softmax = torch.nn.Softmax(dim=1)\n",
        "\n",
        "        self.device = device\n",
        "\n",
        "    def forward(self, x):\n",
        "        x = self.relu(self.maxpool(self.conv1(x)))\n",
        "        x = self.relu(self.maxpool(self.conv2(x)))\n",
        "        x = self.relu(self.maxpool(self.conv3(x)))\n",
        "\n",
        "\n",
        "        x = self.flatten(x)\n",
        "\n",
        "        x = self.relu(self.linear1(x))\n",
        "        out = self.softmax(self.linear2(x))\n",
        "        return out\n",
        "    \n",
        "    def get_action(self, state):\n",
        "        state = torch.tensor(state).float() / 255.0\n",
        "        state = state.permute(2, 0, 1) # -> (3, 210, 160)\n",
        "        state = self.transform(state)\n",
        "        state = state.unsqueeze(0) # -> (1, 3, 210, 160)\n",
        "        state = Variable(state)\n",
        "        state = state.to(self.device)\n",
        "\n",
        "        probs = self.forward(state)\n",
        "\n",
        "        action_sample = Categorical(probs.squeeze(0)).sample()\n",
        "\n",
        "        log_prob = torch.log(probs.squeeze(0)[action_sample])\n",
        "        return action_sample, log_prob"
      ]
    },
    {
      "cell_type": "code",
      "execution_count": null,
      "id": "a86c787e",
      "metadata": {
        "id": "a86c787e"
      },
      "outputs": [],
      "source": [
        "def update_policy(optimizer, rewards, log_probs, gamma=0.9):\n",
        "    discounted_rewards = []\n",
        "\n",
        "    for t in range(len(rewards)):\n",
        "        Gt = 0 \n",
        "        for pow, r in enumerate(rewards[t:]):\n",
        "            Gt = Gt + gamma**pow * r\n",
        "        discounted_rewards.append(Gt)\n",
        "        \n",
        "    discounted_rewards = torch.tensor(discounted_rewards)\n",
        "    discounted_rewards = (discounted_rewards - discounted_rewards.mean()) / (discounted_rewards.std() + 1e-9) \n",
        "    \n",
        "    policy_gradient = []\n",
        "    for log_prob, Gt in zip(log_probs, discounted_rewards):\n",
        "        policy_gradient.append(-log_prob * Gt)\n",
        "    \n",
        "    optimizer.zero_grad()\n",
        "    policy_gradient = torch.stack(policy_gradient).sum()\n",
        "    policy_gradient.backward()\n",
        "    optimizer.step()"
      ]
    },
    {
      "cell_type": "code",
      "execution_count": 77,
      "id": "ab0daddf",
      "metadata": {
        "colab": {
          "base_uri": "https://localhost:8080/"
        },
        "id": "ab0daddf",
        "outputId": "49f08c2c-3913-4ed4-c071-c1390ec5ca3a"
      },
      "outputs": [
        {
          "name": "stderr",
          "output_type": "stream",
          "text": [
            "100%|██████████| 2000/2000 [28:39<00:00,  1.16it/s]\n"
          ]
        }
      ],
      "source": [
        "environment = gym.make('ALE/Breakout-v5', render_mode=\"rgb_array\")\n",
        "policy = Policy(environment.action_space.n, device).to(device)\n",
        "optimizer = Adam(policy.parameters(), lr=1e-4)\n",
        "\n",
        "# если мячик падает, то списывается 1 жизнь. всего 5 жизней\n",
        "# когда они кончаются игра прекращается (становится done)\n",
        "\n",
        "# соотв попробуем поучить максимум на 10000 шагов \n",
        "# т.е. игра принудительно завершается если удалось прожить столько\n",
        "\n",
        "# и итераций запуска 2000. Чем лучше агент умеет играть, \n",
        "# тем дольше он живёт и тем дольше длится итерация,\n",
        "# что можно отследить по прогрес бару tqdm и если что \n",
        "# заинтерраптить выполнение ячейки\n",
        "\n",
        "max_episode_num = 2000\n",
        "max_steps = 10000\n",
        "numsteps = []\n",
        "avg_numsteps = []\n",
        "all_rewards = []\n",
        "\n",
        "for episode in tqdm(range(max_episode_num)):\n",
        "    state = environment.reset()\n",
        "    log_probs = []\n",
        "    rewards = []\n",
        "\n",
        "    for steps in range(max_steps):\n",
        "        action, log_prob = policy.get_action(state)\n",
        "        new_state, reward, done, _ = environment.step(action)\n",
        "        log_probs.append(log_prob)\n",
        "        rewards.append(reward)\n",
        "\n",
        "        if done:\n",
        "            update_policy(optimizer, rewards, log_probs)\n",
        "            numsteps.append(steps)\n",
        "            avg_numsteps.append(np.mean(numsteps[-10:]))\n",
        "            all_rewards.append(np.sum(rewards))\n",
        "            break\n",
        "        \n",
        "        state = new_state"
      ]
    },
    {
      "cell_type": "code",
      "execution_count": 78,
      "id": "3Pd0uiWKWg7e",
      "metadata": {
        "colab": {
          "base_uri": "https://localhost:8080/",
          "height": 369
        },
        "id": "3Pd0uiWKWg7e",
        "outputId": "a614632d-6677-4b52-f24f-2d26aed5e5f7"
      },
      "outputs": [
        {
          "name": "stdout",
          "output_type": "stream",
          "text": [
            "(число ходов до вылета, среднее за 10 последних игр)\n",
            "последние попытки: [248.4, 255.4, 258.0, 253.1, 243.1]\n",
            "первые попытки: [133.0, 157.5, 151.66666666666666, 157.25, 168.2]\n",
            "(набранные очки)\n",
            "последние попытки: [7.0, 11.0, 7.0, 3.0, 0.0]\n",
            "первые попытки: [0.0, 1.0, 0.0, 1.0, 2.0]\n"
          ]
        },
        {
          "data": {
            "image/png": "[encoded data removed]",
            "text/plain": [
              "<Figure size 432x288 with 1 Axes>"
            ]
          },
          "metadata": {
            "needs_background": "light"
          },
          "output_type": "display_data"
        }
      ],
      "source": [
        "print(\"(число ходов до вылета, среднее за 10 последних игр)\")\n",
        "print(\"последние попытки:\", avg_numsteps[-5:])\n",
        "\n",
        "print(\"первые попытки:\", avg_numsteps[:5])\n",
        "print(\"(набранные очки)\")\n",
        "print(\"последние попытки:\", all_rewards[-5:])\n",
        "\n",
        "print(\"первые попытки:\", all_rewards[:5])\n",
        "\n",
        "plt.plot(avg_numsteps)\n",
        "plt.show()"
      ]
    },
    {
      "cell_type": "markdown",
      "id": "pskD3Bkse_MV",
      "metadata": {
        "id": "pskD3Bkse_MV"
      },
      "source": [
        "Начинает набирать очки и живёт дольше"
      ]
    },
    {
      "cell_type": "code",
      "execution_count": 81,
      "id": "I-Wl1PT8pdwf",
      "metadata": {
        "id": "I-Wl1PT8pdwf"
      },
      "outputs": [],
      "source": [
        "torch.save(policy, \"policy\")"
      ]
    },
    {
      "cell_type": "code",
      "execution_count": null,
      "id": "6DoKTvtgfKZx",
      "metadata": {
        "id": "6DoKTvtgfKZx"
      },
      "outputs": [],
      "source": []
    }
  ],
  "metadata": {
    "colab": {
      "provenance": []
    },
    "gpuClass": "standard",
    "kernelspec": {
      "display_name": "Python 3.9.12 ('torch')",
      "language": "python",
      "name": "python3"
    },
    "language_info": {
      "codemirror_mode": {
        "name": "ipython",
        "version": 3
      },
      "file_extension": ".py",
      "mimetype": "text/x-python",
      "name": "python",
      "nbconvert_exporter": "python",
      "pygments_lexer": "ipython3",
      "version": "3.9.15"
    },
    "vscode": {
      "interpreter": {
        "hash": "57fdf6ced3497be6751aff0d610660c5baf34a48c3eaed9bf5963df6523fe9d6"
      }
    }
  },
  "nbformat": 4,
  "nbformat_minor": 5
}
